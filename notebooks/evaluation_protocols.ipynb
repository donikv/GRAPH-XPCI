{
 "cells": [
  {
   "cell_type": "code",
   "execution_count": 1,
   "metadata": {},
   "outputs": [
    {
     "name": "stderr",
     "output_type": "stream",
     "text": [
      "/opt/conda/envs/development/lib/python3.11/site-packages/torchvision/io/image.py:13: UserWarning: Failed to load image Python extension: '/opt/conda/envs/development/lib/python3.11/site-packages/torchvision/image.so: undefined symbol: _ZN3c1017RegisterOperatorsD1Ev'If you don't plan on using image functionality from `torchvision.io`, you can ignore this warning. Otherwise, there might be something wrong with your environment. Did you have `libjpeg` or `libpng` installed before building `torchvision` from source?\n",
      "  warn(\n"
     ]
    }
   ],
   "source": [
    "import pandas as pd\n",
    "import numpy as np\n",
    "import torch\n",
    "\n",
    "import common.logger as logger\n",
    "import common.dataset as dataset\n",
    "import common.record as record\n",
    "import common.trainer as trainer\n",
    "import common.models as models\n",
    "import common.preprocessing as pp\n",
    "import common.utils as utils\n",
    "\n",
    "from datetime import datetime as dt\n",
    "import matplotlib\n",
    "import matplotlib.pyplot as plt\n",
    "import sys\n",
    "import numpy as np\n",
    "import cv2\n",
    "from tqdm import tqdm\n",
    "from collections import Counter\n",
    "import os"
   ]
  },
  {
   "cell_type": "markdown",
   "metadata": {},
   "source": [
    "### Model loading from record\n",
    "- Loads model from record\n",
    "- Record is described in common.record"
   ]
  },
  {
   "cell_type": "code",
   "execution_count": 14,
   "metadata": {},
   "outputs": [
    {
     "name": "stdout",
     "output_type": "stream",
     "text": [
      "Loaded train record from: ../records/archive/regression_new_test_resnet18/test.pt\n",
      "Compose(\n",
      "    ToTensor()\n",
      "    Resize(size=(1024, 1024), interpolation=bilinear, max_size=None, antialias=False)\n",
      "    HistogramStretching()\n",
      "    ToRGBImage()\n",
      "    Normalize(mean=[0.485, 0.456, 0.406], std=[0.229, 0.224, 0.225])\n",
      ")\n",
      "/home/donik/datasets/XPCI/dataset_biopsies_small\n"
     ]
    }
   ],
   "source": [
    "DEVICE = \"cuda:0\"\n",
    "DEVICE = torch.device(DEVICE)\n",
    "READ = False\n",
    "record_path = \"../records/archive/regression_new_test_resnet18/test.pt\"\n",
    "\n",
    "recorder = record.Record.load(record_path)\n",
    "model = recorder.model\n",
    "model = model.to(DEVICE)\n",
    "model.eval()\n",
    "\n",
    "test_dataset = recorder.test_dataset\n",
    "transforms = test_dataset.transform\n",
    "\n",
    "a = model.load_state_dict(recorder.checkpoints['best'])\n",
    "print(f\"Loaded train record from: {record_path}\")\n",
    "\n",
    "print(transforms)\n",
    "print(recorder.test_dataset.root_dir)"
   ]
  },
  {
   "cell_type": "markdown",
   "metadata": {},
   "source": [
    "### Dataset preparation \n",
    "- Loads dataset depending on the protocol"
   ]
  },
  {
   "cell_type": "code",
   "execution_count": 21,
   "metadata": {},
   "outputs": [],
   "source": [
    "PROTOCOL = \"combined-multi\" # fresh-multi, fresh-binary, archive-multi, combined-multi, combined-binary, archive-binary, archive-patches, fresh-patches\n",
    "CSV_LOCATION = \"../data/csv\"\n",
    "ROOT_DIR = \"/home/donik/datasets/XPCI/dataset_biopsies_small\"\n",
    "\n",
    "\n",
    "if PROTOCOL == \"fresh-multi\":\n",
    "    csv_path = CSV_LOCATION + '/fresh/test.csv'\n",
    "    two_class = False\n",
    "    pred_fn = models.regression_pred_fn\n",
    "elif PROTOCOL == \"fresh-binary\":\n",
    "    csv_path = CSV_LOCATION + '/fresh/test.csv'\n",
    "    two_class = True\n",
    "    pred_fn = models.regression_pred_fn\n",
    "elif PROTOCOL == \"archive-multi\":\n",
    "    csv_path = CSV_LOCATION + '/archive/test.csv'\n",
    "    two_class = False\n",
    "    pred_fn = models.regression_pred_fn\n",
    "elif PROTOCOL == \"archive-binary\":\n",
    "    csv_path = CSV_LOCATION + '/archive/test.csv'\n",
    "    two_class = True\n",
    "    pred_fn = models.regression_pred_fn\n",
    "elif PROTOCOL == \"combined-multi\":\n",
    "    csv_path = CSV_LOCATION + '/combined/test.csv'\n",
    "    two_class = False\n",
    "    pred_fn = models.regression_pred_fn\n",
    "elif PROTOCOL == \"combined-binary\":\n",
    "    csv_path = CSV_LOCATION + '/combined/test.csv'\n",
    "    two_class = True\n",
    "    pred_fn = models.regression_pred_fn\n",
    "elif PROTOCOL == \"archive-patches\":\n",
    "    csv_path = '/home/donik/datasets/XPCI/dataset_biopsies/csv/patches_archive/test.csv'\n",
    "    ROOT_DIR = \"/home/donik/datasets/XPCI/dataset_biopsies_patches\"\n",
    "    two_class = False\n",
    "    pred_fn = models.classification_pred_fn\n",
    "elif PROTOCOL == \"fresh-patches\":\n",
    "    csv_path = CSV_LOCATION + '/patches_new/test.csv'\n",
    "    ROOT_DIR = \"/home/ssd/dataset_biopsies_patches_fresh_192\"\n",
    "    two_class = False\n",
    "    pred_fn = models.classification_pred_fn\n",
    "\n",
    "df = pd.read_csv(csv_path)\n",
    "data_set = dataset.TestBiopsiesCSVDataset(df, ROOT_DIR, transform=transforms, two_class=two_class, preload=False, cache=False)"
   ]
  },
  {
   "cell_type": "code",
   "execution_count": 22,
   "metadata": {},
   "outputs": [],
   "source": [
    "def evaluate_on_patches(df, classes = 3):\n",
    "    # Group by original_image and sub_image to calculate percentage of positive predictions per sub_image\n",
    "    percentage_positive_per_sub_image = df.groupby(['original_image'])['pred'].mean() * 100\n",
    "\n",
    "    # Group by original_image to get the mean percentage of positive predictions per original_image\n",
    "    mean_percentage_positive_per_image = percentage_positive_per_sub_image.groupby('original_image').mean()\n",
    "\n",
    "    # Merge this result back to the original dataframe to group by original_target\n",
    "    df = df.merge(mean_percentage_positive_per_image.rename('percentage_positive'), on='original_image')\n",
    "    \n",
    "    # Now group by original_target and calculate the mean of percentage_positive\n",
    "    mean_percentage_positive_per_target = df.groupby('original_target')['percentage_positive'].mean()\n",
    "    print(mean_percentage_positive_per_target)\n",
    "    closest_target_index = df.percentage_positive.map(lambda x: (mean_percentage_positive_per_target - x).abs().idxmin())#.map(lambda x: 0 if x == 0 else x + 1)\n",
    "    df_ret = df.assign(pred1=closest_target_index)\n",
    "\n",
    "    from skimage.filters import threshold_multiotsu\n",
    "    hist = np.histogram(df.percentage_positive, bins=100)\n",
    "    thresholds = threshold_multiotsu(hist=hist, classes=classes)\n",
    "    def clasify(x):\n",
    "        if x < thresholds[0]:\n",
    "            return 0\n",
    "        elif x < thresholds[1]:\n",
    "            return 2\n",
    "        else:\n",
    "            return 3\n",
    "    df_ret[\"pred2\"] = df.percentage_positive.apply(clasify)\n",
    "    print(thresholds)\n",
    "\n",
    "    return df_ret"
   ]
  },
  {
   "cell_type": "code",
   "execution_count": 23,
   "metadata": {},
   "outputs": [
    {
     "name": "stdout",
     "output_type": "stream",
     "text": [
      "VariableEncoderClassificationModelNew(\n",
      "  (encoder): ResNet(\n",
      "    (conv1): Conv2d(3, 64, kernel_size=(7, 7), stride=(2, 2), padding=(3, 3), bias=False)\n",
      "    (bn1): BatchNorm2d(64, eps=1e-05, momentum=0.1, affine=True, track_running_stats=True)\n",
      "    (relu): ReLU(inplace=True)\n",
      "    (maxpool): MaxPool2d(kernel_size=3, stride=2, padding=1, dilation=1, ceil_mode=False)\n",
      "    (layer1): Sequential(\n",
      "      (0): BasicBlock(\n",
      "        (conv1): Conv2d(64, 64, kernel_size=(3, 3), stride=(1, 1), padding=(1, 1), bias=False)\n",
      "        (bn1): BatchNorm2d(64, eps=1e-05, momentum=0.1, affine=True, track_running_stats=True)\n",
      "        (relu): ReLU(inplace=True)\n",
      "        (conv2): Conv2d(64, 64, kernel_size=(3, 3), stride=(1, 1), padding=(1, 1), bias=False)\n",
      "        (bn2): BatchNorm2d(64, eps=1e-05, momentum=0.1, affine=True, track_running_stats=True)\n",
      "      )\n",
      "      (1): BasicBlock(\n",
      "        (conv1): Conv2d(64, 64, kernel_size=(3, 3), stride=(1, 1), padding=(1, 1), bias=False)\n",
      "        (bn1): BatchNorm2d(64, eps=1e-05, momentum=0.1, affine=True, track_running_stats=True)\n",
      "        (relu): ReLU(inplace=True)\n",
      "        (conv2): Conv2d(64, 64, kernel_size=(3, 3), stride=(1, 1), padding=(1, 1), bias=False)\n",
      "        (bn2): BatchNorm2d(64, eps=1e-05, momentum=0.1, affine=True, track_running_stats=True)\n",
      "      )\n",
      "    )\n",
      "    (layer2): Sequential(\n",
      "      (0): BasicBlock(\n",
      "        (conv1): Conv2d(64, 128, kernel_size=(3, 3), stride=(2, 2), padding=(1, 1), bias=False)\n",
      "        (bn1): BatchNorm2d(128, eps=1e-05, momentum=0.1, affine=True, track_running_stats=True)\n",
      "        (relu): ReLU(inplace=True)\n",
      "        (conv2): Conv2d(128, 128, kernel_size=(3, 3), stride=(1, 1), padding=(1, 1), bias=False)\n",
      "        (bn2): BatchNorm2d(128, eps=1e-05, momentum=0.1, affine=True, track_running_stats=True)\n",
      "        (downsample): Sequential(\n",
      "          (0): Conv2d(64, 128, kernel_size=(1, 1), stride=(2, 2), bias=False)\n",
      "          (1): BatchNorm2d(128, eps=1e-05, momentum=0.1, affine=True, track_running_stats=True)\n",
      "        )\n",
      "      )\n",
      "      (1): BasicBlock(\n",
      "        (conv1): Conv2d(128, 128, kernel_size=(3, 3), stride=(1, 1), padding=(1, 1), bias=False)\n",
      "        (bn1): BatchNorm2d(128, eps=1e-05, momentum=0.1, affine=True, track_running_stats=True)\n",
      "        (relu): ReLU(inplace=True)\n",
      "        (conv2): Conv2d(128, 128, kernel_size=(3, 3), stride=(1, 1), padding=(1, 1), bias=False)\n",
      "        (bn2): BatchNorm2d(128, eps=1e-05, momentum=0.1, affine=True, track_running_stats=True)\n",
      "      )\n",
      "    )\n",
      "    (layer3): Sequential(\n",
      "      (0): BasicBlock(\n",
      "        (conv1): Conv2d(128, 256, kernel_size=(3, 3), stride=(2, 2), padding=(1, 1), bias=False)\n",
      "        (bn1): BatchNorm2d(256, eps=1e-05, momentum=0.1, affine=True, track_running_stats=True)\n",
      "        (relu): ReLU(inplace=True)\n",
      "        (conv2): Conv2d(256, 256, kernel_size=(3, 3), stride=(1, 1), padding=(1, 1), bias=False)\n",
      "        (bn2): BatchNorm2d(256, eps=1e-05, momentum=0.1, affine=True, track_running_stats=True)\n",
      "        (downsample): Sequential(\n",
      "          (0): Conv2d(128, 256, kernel_size=(1, 1), stride=(2, 2), bias=False)\n",
      "          (1): BatchNorm2d(256, eps=1e-05, momentum=0.1, affine=True, track_running_stats=True)\n",
      "        )\n",
      "      )\n",
      "      (1): BasicBlock(\n",
      "        (conv1): Conv2d(256, 256, kernel_size=(3, 3), stride=(1, 1), padding=(1, 1), bias=False)\n",
      "        (bn1): BatchNorm2d(256, eps=1e-05, momentum=0.1, affine=True, track_running_stats=True)\n",
      "        (relu): ReLU(inplace=True)\n",
      "        (conv2): Conv2d(256, 256, kernel_size=(3, 3), stride=(1, 1), padding=(1, 1), bias=False)\n",
      "        (bn2): BatchNorm2d(256, eps=1e-05, momentum=0.1, affine=True, track_running_stats=True)\n",
      "      )\n",
      "    )\n",
      "    (layer4): Sequential(\n",
      "      (0): BasicBlock(\n",
      "        (conv1): Conv2d(256, 512, kernel_size=(3, 3), stride=(2, 2), padding=(1, 1), bias=False)\n",
      "        (bn1): BatchNorm2d(512, eps=1e-05, momentum=0.1, affine=True, track_running_stats=True)\n",
      "        (relu): ReLU(inplace=True)\n",
      "        (conv2): Conv2d(512, 512, kernel_size=(3, 3), stride=(1, 1), padding=(1, 1), bias=False)\n",
      "        (bn2): BatchNorm2d(512, eps=1e-05, momentum=0.1, affine=True, track_running_stats=True)\n",
      "        (downsample): Sequential(\n",
      "          (0): Conv2d(256, 512, kernel_size=(1, 1), stride=(2, 2), bias=False)\n",
      "          (1): BatchNorm2d(512, eps=1e-05, momentum=0.1, affine=True, track_running_stats=True)\n",
      "        )\n",
      "      )\n",
      "      (1): BasicBlock(\n",
      "        (conv1): Conv2d(512, 512, kernel_size=(3, 3), stride=(1, 1), padding=(1, 1), bias=False)\n",
      "        (bn1): BatchNorm2d(512, eps=1e-05, momentum=0.1, affine=True, track_running_stats=True)\n",
      "        (relu): ReLU(inplace=True)\n",
      "        (conv2): Conv2d(512, 512, kernel_size=(3, 3), stride=(1, 1), padding=(1, 1), bias=False)\n",
      "        (bn2): BatchNorm2d(512, eps=1e-05, momentum=0.1, affine=True, track_running_stats=True)\n",
      "      )\n",
      "    )\n",
      "    (avgpool): AdaptiveAvgPool2d(output_size=(1, 1))\n",
      "    (fc): Identity()\n",
      "  )\n",
      "  (average): AdaptiveAvgPool2d(output_size=(32, 32))\n",
      "  (flatten): Flatten(start_dim=1, end_dim=-1)\n",
      "  (linear): Linear(in_features=512, out_features=64, bias=True)\n",
      "  (out): OutBlock(\n",
      "    (out): Linear(in_features=64, out_features=1, bias=True)\n",
      "  )\n",
      ")\n"
     ]
    }
   ],
   "source": [
    "print(model)"
   ]
  },
  {
   "cell_type": "code",
   "execution_count": 24,
   "metadata": {},
   "outputs": [
    {
     "name": "stdout",
     "output_type": "stream",
     "text": [
      "              precision    recall  f1-score   support\n",
      "\n",
      "           0       0.86      0.81      0.83      7648\n",
      "           1       0.58      0.92      0.71      2170\n",
      "           2       0.93      0.87      0.90      2421\n",
      "           3       0.98      0.75      0.85      2881\n",
      "\n",
      "    accuracy                           0.82     15120\n",
      "   macro avg       0.84      0.84      0.82     15120\n",
      "weighted avg       0.85      0.82      0.83     15120\n",
      "\n"
     ]
    }
   ],
   "source": [
    "\n",
    "csv_path = os.path.join(os.path.split(record_path)[0],'test.csv')\n",
    "\n",
    "if not READ:\n",
    "    data_loader = torch.utils.data.DataLoader(data_set, batch_size=64, shuffle=False, num_workers=0)\n",
    "    results = {}\n",
    "    for i, data in tqdm(enumerate(data_loader), total=len(data_loader)):\n",
    "        with torch.autocast(device_type=DEVICE.type, dtype=torch.float16):\n",
    "            inputs, (labels, ids) = data\n",
    "            inputs = inputs.to(DEVICE)\n",
    "            labels = labels.to(DEVICE)\n",
    "            with torch.no_grad():\n",
    "                outputs = model(inputs)\n",
    "                preds = pred_fn(outputs)\n",
    "                for i in range(len(preds)):\n",
    "                    results[ids[i]] = preds[i].item()\n",
    "    print(results)\n",
    "\n",
    "if READ:\n",
    "    df1 = pd.read_csv(csv_path)\n",
    "else:\n",
    "    df1 = df.loc[df.image == list(results.keys())].assign(pred = list(results.values()))\n",
    "    df1.to_csv(csv_path, index=False)\n",
    "\n",
    "if \"patches\" in PROTOCOL:\n",
    "    df_ret = evaluate_on_patches(df1)\n",
    "    targets, preds = df_ret.original_target.values, df_ret.pred1.values\n",
    "    df1 = df_ret\n",
    "else:\n",
    "    targets, preds = df1.target.values, df1.pred.values\n",
    "cr = utils.createClassificationReport(targets, preds)\n",
    "print(cr)\n"
   ]
  },
  {
   "cell_type": "code",
   "execution_count": 25,
   "metadata": {},
   "outputs": [
    {
     "ename": "ValueError",
     "evalue": "Shape of passed values is (4, 4), indices imply (3, 3)",
     "output_type": "error",
     "traceback": [
      "\u001b[0;31m---------------------------------------------------------------------------\u001b[0m",
      "\u001b[0;31mValueError\u001b[0m                                Traceback (most recent call last)",
      "Cell \u001b[0;32mIn[25], line 28\u001b[0m\n\u001b[1;32m     26\u001b[0m \u001b[38;5;28;01mimport\u001b[39;00m \u001b[38;5;21;01mpandas\u001b[39;00m \u001b[38;5;28;01mas\u001b[39;00m \u001b[38;5;21;01mpd\u001b[39;00m\n\u001b[1;32m     27\u001b[0m \u001b[38;5;28;01mimport\u001b[39;00m \u001b[38;5;21;01mmatplotlib\u001b[39;00m\u001b[38;5;21;01m.\u001b[39;00m\u001b[38;5;21;01mpyplot\u001b[39;00m \u001b[38;5;28;01mas\u001b[39;00m \u001b[38;5;21;01mplt\u001b[39;00m\n\u001b[0;32m---> 28\u001b[0m df_cm \u001b[38;5;241m=\u001b[39m pd\u001b[38;5;241m.\u001b[39mDataFrame(cm, index \u001b[38;5;241m=\u001b[39m [\u001b[38;5;124m\"\u001b[39m\u001b[38;5;124m0R\u001b[39m\u001b[38;5;124m\"\u001b[39m, \u001b[38;5;124m\"\u001b[39m\u001b[38;5;124m2R\u001b[39m\u001b[38;5;124m\"\u001b[39m, \u001b[38;5;124m\"\u001b[39m\u001b[38;5;124m3R\u001b[39m\u001b[38;5;124m\"\u001b[39m],\n\u001b[1;32m     29\u001b[0m                   columns \u001b[38;5;241m=\u001b[39m [\u001b[38;5;124m\"\u001b[39m\u001b[38;5;124m0R\u001b[39m\u001b[38;5;124m\"\u001b[39m, \u001b[38;5;124m\"\u001b[39m\u001b[38;5;124m2R\u001b[39m\u001b[38;5;124m\"\u001b[39m, \u001b[38;5;124m\"\u001b[39m\u001b[38;5;124m3R\u001b[39m\u001b[38;5;124m\"\u001b[39m])\n\u001b[1;32m     30\u001b[0m plt\u001b[38;5;241m.\u001b[39mfigure(figsize \u001b[38;5;241m=\u001b[39m (\u001b[38;5;241m10\u001b[39m,\u001b[38;5;241m7\u001b[39m))\n\u001b[1;32m     31\u001b[0m sn\u001b[38;5;241m.\u001b[39mheatmap(df_cm, annot\u001b[38;5;241m=\u001b[39m\u001b[38;5;28;01mTrue\u001b[39;00m)\n",
      "File \u001b[0;32m/opt/conda/envs/development/lib/python3.11/site-packages/pandas/core/frame.py:827\u001b[0m, in \u001b[0;36mDataFrame.__init__\u001b[0;34m(self, data, index, columns, dtype, copy)\u001b[0m\n\u001b[1;32m    816\u001b[0m         mgr \u001b[38;5;241m=\u001b[39m dict_to_mgr(\n\u001b[1;32m    817\u001b[0m             \u001b[38;5;66;03m# error: Item \"ndarray\" of \"Union[ndarray, Series, Index]\" has no\u001b[39;00m\n\u001b[1;32m    818\u001b[0m             \u001b[38;5;66;03m# attribute \"name\"\u001b[39;00m\n\u001b[0;32m   (...)\u001b[0m\n\u001b[1;32m    824\u001b[0m             copy\u001b[38;5;241m=\u001b[39m_copy,\n\u001b[1;32m    825\u001b[0m         )\n\u001b[1;32m    826\u001b[0m     \u001b[38;5;28;01melse\u001b[39;00m:\n\u001b[0;32m--> 827\u001b[0m         mgr \u001b[38;5;241m=\u001b[39m ndarray_to_mgr(\n\u001b[1;32m    828\u001b[0m             data,\n\u001b[1;32m    829\u001b[0m             index,\n\u001b[1;32m    830\u001b[0m             columns,\n\u001b[1;32m    831\u001b[0m             dtype\u001b[38;5;241m=\u001b[39mdtype,\n\u001b[1;32m    832\u001b[0m             copy\u001b[38;5;241m=\u001b[39mcopy,\n\u001b[1;32m    833\u001b[0m             typ\u001b[38;5;241m=\u001b[39mmanager,\n\u001b[1;32m    834\u001b[0m         )\n\u001b[1;32m    836\u001b[0m \u001b[38;5;66;03m# For data is list-like, or Iterable (will consume into list)\u001b[39;00m\n\u001b[1;32m    837\u001b[0m \u001b[38;5;28;01melif\u001b[39;00m is_list_like(data):\n",
      "File \u001b[0;32m/opt/conda/envs/development/lib/python3.11/site-packages/pandas/core/internals/construction.py:336\u001b[0m, in \u001b[0;36mndarray_to_mgr\u001b[0;34m(values, index, columns, dtype, copy, typ)\u001b[0m\n\u001b[1;32m    331\u001b[0m \u001b[38;5;66;03m# _prep_ndarraylike ensures that values.ndim == 2 at this point\u001b[39;00m\n\u001b[1;32m    332\u001b[0m index, columns \u001b[38;5;241m=\u001b[39m _get_axes(\n\u001b[1;32m    333\u001b[0m     values\u001b[38;5;241m.\u001b[39mshape[\u001b[38;5;241m0\u001b[39m], values\u001b[38;5;241m.\u001b[39mshape[\u001b[38;5;241m1\u001b[39m], index\u001b[38;5;241m=\u001b[39mindex, columns\u001b[38;5;241m=\u001b[39mcolumns\n\u001b[1;32m    334\u001b[0m )\n\u001b[0;32m--> 336\u001b[0m _check_values_indices_shape_match(values, index, columns)\n\u001b[1;32m    338\u001b[0m \u001b[38;5;28;01mif\u001b[39;00m typ \u001b[38;5;241m==\u001b[39m \u001b[38;5;124m\"\u001b[39m\u001b[38;5;124marray\u001b[39m\u001b[38;5;124m\"\u001b[39m:\n\u001b[1;32m    339\u001b[0m     \u001b[38;5;28;01mif\u001b[39;00m \u001b[38;5;28missubclass\u001b[39m(values\u001b[38;5;241m.\u001b[39mdtype\u001b[38;5;241m.\u001b[39mtype, \u001b[38;5;28mstr\u001b[39m):\n",
      "File \u001b[0;32m/opt/conda/envs/development/lib/python3.11/site-packages/pandas/core/internals/construction.py:420\u001b[0m, in \u001b[0;36m_check_values_indices_shape_match\u001b[0;34m(values, index, columns)\u001b[0m\n\u001b[1;32m    418\u001b[0m passed \u001b[38;5;241m=\u001b[39m values\u001b[38;5;241m.\u001b[39mshape\n\u001b[1;32m    419\u001b[0m implied \u001b[38;5;241m=\u001b[39m (\u001b[38;5;28mlen\u001b[39m(index), \u001b[38;5;28mlen\u001b[39m(columns))\n\u001b[0;32m--> 420\u001b[0m \u001b[38;5;28;01mraise\u001b[39;00m \u001b[38;5;167;01mValueError\u001b[39;00m(\u001b[38;5;124mf\u001b[39m\u001b[38;5;124m\"\u001b[39m\u001b[38;5;124mShape of passed values is \u001b[39m\u001b[38;5;132;01m{\u001b[39;00mpassed\u001b[38;5;132;01m}\u001b[39;00m\u001b[38;5;124m, indices imply \u001b[39m\u001b[38;5;132;01m{\u001b[39;00mimplied\u001b[38;5;132;01m}\u001b[39;00m\u001b[38;5;124m\"\u001b[39m)\n",
      "\u001b[0;31mValueError\u001b[0m: Shape of passed values is (4, 4), indices imply (3, 3)"
     ]
    }
   ],
   "source": [
    "\n",
    "def classification_report(df1, typ, f, patches):\n",
    "    if patches:\n",
    "        targets, preds = df1[df1.type == typ].original_target.values, df1[df1.type == typ].pred2.values\n",
    "    else:    \n",
    "        targets, preds = df1[df1.type == typ].target.values, df1[df1.type == typ].pred.values\n",
    "    if targets.size > 0:\n",
    "        cr = utils.createClassificationReport(targets, preds)\n",
    "        cr2 = utils.createClassificationReport([0 if t < 2 else 1 for t in targets], [0 if t < 2 else 1 for t in preds])\n",
    "        print(f\"{typ.capitalize()} task --------------- \\n\", cr, \"\\n\", cr2, \"\\n\", file=f)\n",
    "        print(f\"{typ.capitalize()} task --------------- \\n\", cr, \"\\n\", cr2, \"\\n\")\n",
    "\n",
    "with open(os.path.join(os.path.split(record_path)[0],'results.txt'), 'w') as f:\n",
    "    classification_report(df1, 'archive', f, 'patches' in PROTOCOL)\n",
    "    classification_report(df1, 'fresh', f, 'patches' in PROTOCOL)"
   ]
  },
  {
   "cell_type": "code",
   "execution_count": 172,
   "metadata": {},
   "outputs": [
    {
     "name": "stdout",
     "output_type": "stream",
     "text": [
      "biopsy\n",
      "rec_8bit_07    3.0\n",
      "rec_8bit_12    0.0\n",
      "rec_8bit_19    1.0\n",
      "rec_8bit_33    0.0\n",
      "Name: pred, dtype: float64\n",
      "Archive task --------------- \n",
      "               precision    recall  f1-score   support\n",
      "\n",
      "           0       0.50      1.00      0.67         1\n",
      "           1       1.00      1.00      1.00         1\n",
      "           2       0.00      0.00      0.00         1\n",
      "           3       1.00      1.00      1.00         1\n",
      "\n",
      "    accuracy                           0.75         4\n",
      "   macro avg       0.62      0.75      0.67         4\n",
      "weighted avg       0.62      0.75      0.67         4\n",
      " \n",
      "               precision    recall  f1-score   support\n",
      "\n",
      "           0       0.67      1.00      0.80         2\n",
      "           1       1.00      0.50      0.67         2\n",
      "\n",
      "    accuracy                           0.75         4\n",
      "   macro avg       0.83      0.75      0.73         4\n",
      "weighted avg       0.83      0.75      0.73         4\n",
      " \n",
      "\n",
      "biopsy\n",
      "014_101_08_HA_S2_    0.0\n",
      "38_201-01.2_S2       2.0\n",
      "49_101-55.5_S3       1.0\n",
      "Name: pred, dtype: float64\n",
      "Fresh task --------------- \n",
      "               precision    recall  f1-score   support\n",
      "\n",
      "         0.0       1.00      1.00      1.00         1\n",
      "         1.0       0.00      0.00      0.00         0\n",
      "         2.0       1.00      1.00      1.00         1\n",
      "         3.0       0.00      0.00      0.00         1\n",
      "\n",
      "    accuracy                           0.67         3\n",
      "   macro avg       0.50      0.50      0.50         3\n",
      "weighted avg       0.67      0.67      0.67         3\n",
      " \n",
      "               precision    recall  f1-score   support\n",
      "\n",
      "           0       0.50      1.00      0.67         1\n",
      "           1       1.00      0.50      0.67         2\n",
      "\n",
      "    accuracy                           0.67         3\n",
      "   macro avg       0.75      0.75      0.67         3\n",
      "weighted avg       0.83      0.67      0.67         3\n",
      " \n",
      "\n"
     ]
    },
    {
     "name": "stderr",
     "output_type": "stream",
     "text": [
      "/opt/conda/envs/development/lib/python3.11/site-packages/sklearn/metrics/_classification.py:1517: UndefinedMetricWarning: Precision is ill-defined and being set to 0.0 in labels with no predicted samples. Use `zero_division` parameter to control this behavior.\n",
      "  _warn_prf(average, modifier, f\"{metric.capitalize()} is\", len(result))\n",
      "/opt/conda/envs/development/lib/python3.11/site-packages/sklearn/metrics/_classification.py:1517: UndefinedMetricWarning: Precision is ill-defined and being set to 0.0 in labels with no predicted samples. Use `zero_division` parameter to control this behavior.\n",
      "  _warn_prf(average, modifier, f\"{metric.capitalize()} is\", len(result))\n",
      "/opt/conda/envs/development/lib/python3.11/site-packages/sklearn/metrics/_classification.py:1517: UndefinedMetricWarning: Precision is ill-defined and being set to 0.0 in labels with no predicted samples. Use `zero_division` parameter to control this behavior.\n",
      "  _warn_prf(average, modifier, f\"{metric.capitalize()} is\", len(result))\n",
      "/opt/conda/envs/development/lib/python3.11/site-packages/sklearn/metrics/_classification.py:1517: UndefinedMetricWarning: Precision is ill-defined and being set to 0.0 in labels with no predicted samples. Use `zero_division` parameter to control this behavior.\n",
      "  _warn_prf(average, modifier, f\"{metric.capitalize()} is\", len(result))\n",
      "/opt/conda/envs/development/lib/python3.11/site-packages/sklearn/metrics/_classification.py:1517: UndefinedMetricWarning: Recall is ill-defined and being set to 0.0 in labels with no true samples. Use `zero_division` parameter to control this behavior.\n",
      "  _warn_prf(average, modifier, f\"{metric.capitalize()} is\", len(result))\n",
      "/opt/conda/envs/development/lib/python3.11/site-packages/sklearn/metrics/_classification.py:1517: UndefinedMetricWarning: Precision is ill-defined and being set to 0.0 in labels with no predicted samples. Use `zero_division` parameter to control this behavior.\n",
      "  _warn_prf(average, modifier, f\"{metric.capitalize()} is\", len(result))\n",
      "/opt/conda/envs/development/lib/python3.11/site-packages/sklearn/metrics/_classification.py:1517: UndefinedMetricWarning: Recall is ill-defined and being set to 0.0 in labels with no true samples. Use `zero_division` parameter to control this behavior.\n",
      "  _warn_prf(average, modifier, f\"{metric.capitalize()} is\", len(result))\n",
      "/opt/conda/envs/development/lib/python3.11/site-packages/sklearn/metrics/_classification.py:1517: UndefinedMetricWarning: Precision is ill-defined and being set to 0.0 in labels with no predicted samples. Use `zero_division` parameter to control this behavior.\n",
      "  _warn_prf(average, modifier, f\"{metric.capitalize()} is\", len(result))\n",
      "/opt/conda/envs/development/lib/python3.11/site-packages/sklearn/metrics/_classification.py:1517: UndefinedMetricWarning: Recall is ill-defined and being set to 0.0 in labels with no true samples. Use `zero_division` parameter to control this behavior.\n",
      "  _warn_prf(average, modifier, f\"{metric.capitalize()} is\", len(result))\n"
     ]
    }
   ],
   "source": [
    "def classification_report_biopsy(df1, typ, f, patches):\n",
    "    if patches:\n",
    "        targets, preds = df1[df1.type == typ].groupby('biopsy').original_target.max(), df1[df1.type == typ].groupby('biopsy').pred2.max()\n",
    "    else:    \n",
    "        targets, preds = df1[df1.type == typ].groupby('biopsy').target.max(), df1[df1.type == typ].groupby('biopsy').pred.max()\n",
    "        print(preds)\n",
    "    if targets.size > 0:\n",
    "        cr = utils.createClassificationReport(targets, preds)\n",
    "        cr2 = utils.createClassificationReport([0 if t < 2 else 1 for t in targets], [0 if t < 2 else 1 for t in preds])\n",
    "        print(f\"{typ.capitalize()} task --------------- \\n\", cr, \"\\n\", cr2, \"\\n\", file=f)\n",
    "        print(f\"{typ.capitalize()} task --------------- \\n\", cr, \"\\n\", cr2, \"\\n\")\n",
    "\n",
    "\n",
    "with open(os.path.join(os.path.split(record_path)[0], 'results_bio.txt'), 'w') as f:\n",
    "    classification_report_biopsy(df1, 'archive', f, 'patches' in PROTOCOL)\n",
    "    classification_report_biopsy(df1, 'fresh', f, 'patches' in PROTOCOL)"
   ]
  },
  {
   "cell_type": "code",
   "execution_count": 29,
   "metadata": {},
   "outputs": [
    {
     "data": {
      "image/png": "[encoded data removed]",
      "text/plain": [
       "<Figure size 1000x700 with 2 Axes>"
      ]
     },
     "metadata": {},
     "output_type": "display_data"
    },
    {
     "data": {
      "image/png": "[encoded data removed]",
      "text/plain": [
       "<Figure size 1000x700 with 2 Axes>"
      ]
     },
     "metadata": {},
     "output_type": "display_data"
    },
    {
     "data": {
      "image/png": "[encoded data removed]",
      "text/plain": [
       "<Figure size 1000x700 with 2 Axes>"
      ]
     },
     "metadata": {},
     "output_type": "display_data"
    },
    {
     "data": {
      "image/png": "[encoded data removed]",
      "text/plain": [
       "<Figure size 1000x700 with 2 Axes>"
      ]
     },
     "metadata": {},
     "output_type": "display_data"
    }
   ],
   "source": [
    "from sklearn.metrics import confusion_matrix\n",
    "\n",
    "import seaborn as sn\n",
    "import pandas as pd\n",
    "import matplotlib.pyplot as plt\n",
    "\n",
    "def conf(df1, typ, patches):\n",
    "    if patches:\n",
    "        targets, preds = df1[df1.type == typ].original_target.values, df1[df1.type == typ].pred2.values\n",
    "    else:    \n",
    "        targets, preds = df1[df1.type == typ].target.values, df1[df1.type == typ].pred.values\n",
    "    if targets.size > 0:\n",
    "        cr = confusion_matrix(targets, preds, normalize=\"true\")\n",
    "        cr2 = confusion_matrix([0 if t < 2 else 1 for t in targets], [0 if t < 2 else 1 for t in preds], normalize=\"true\")\n",
    "        return cr, cr2\n",
    "\n",
    "\n",
    "cm, cm2 = conf(df1, 'fresh', 'patches' in PROTOCOL)\n",
    "trgts = [\"0R\", \"2R\", \"3R\"] if \"patches\" in PROTOCOL else [\"0R\", \"1R\", \"2R\", \"3R\"]\n",
    "df_cm = pd.DataFrame(cm, index = trgts,\n",
    "                  columns = trgts)\n",
    "plt.figure(figsize = (10,7))\n",
    "sn.heatmap(df_cm, annot=True)\n",
    "plt.show()\n",
    "\n",
    "df_cm = pd.DataFrame(cm2, index = [\"Low risk\", \"High risk\"],\n",
    "                  columns = [\"Low risk\", \"High risk\"])\n",
    "plt.figure(figsize = (10,7))\n",
    "sn.heatmap(df_cm, annot=True)\n",
    "plt.show()\n",
    "\n",
    "if 'patches' not in PROTOCOL:\n",
    "    cm, cm2 = conf(df1, 'archive', 'patches' in PROTOCOL)\n",
    "\n",
    "    df_cm = pd.DataFrame(cm, index = [\"0R\", \"1R\", \"2R\", \"3R\"],\n",
    "                    columns = [\"0R\", \"1R\", \"2R\", \"3R\"])\n",
    "    plt.figure(figsize = (10,7))\n",
    "    sn.heatmap(df_cm, annot=True)\n",
    "    plt.show()\n",
    "\n",
    "    df_cm = pd.DataFrame(cm2, index = [\"Low risk\", \"High risk\"],\n",
    "                    columns = [\"Low risk\", \"High risk\"])\n",
    "    plt.figure(figsize = (10,7))\n",
    "    sn.heatmap(df_cm, annot=True)\n",
    "    plt.show()\n"
   ]
  }
 ],
 "metadata": {
  "kernelspec": {
   "display_name": "development",
   "language": "python",
   "name": "python3"
  },
  "language_info": {
   "codemirror_mode": {
    "name": "ipython",
    "version": 3
   },
   "file_extension": ".py",
   "mimetype": "text/x-python",
   "name": "python",
   "nbconvert_exporter": "python",
   "pygments_lexer": "ipython3",
   "version": "3.11.9"
  }
 },
 "nbformat": 4,
 "nbformat_minor": 2
}
